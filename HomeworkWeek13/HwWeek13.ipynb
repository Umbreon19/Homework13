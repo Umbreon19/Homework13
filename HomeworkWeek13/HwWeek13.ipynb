{
 "cells": [
  {
   "cell_type": "code",
   "execution_count": 8,
   "metadata": {},
   "outputs": [
    {
     "name": "stdout",
     "output_type": "stream",
     "text": [
      "What is your guess for the number?  3\n",
      "too small\n"
     ]
    }
   ],
   "source": [
    "secretnumber=4 \n",
    "secretnumberguess=input('What is your guess for the number?  ')\n",
    "secretnumberguess=int(secretnumberguess)\n",
    "\n",
    "if secretnumberguess==4:\n",
    "    print('you guessed the number!')\n",
    "if secretnumberguess<4:\n",
    "    print ('too small')\n",
    "if secretnumberguess>4:\n",
    "    print ('too big') \n"
   ]
  },
  {
   "cell_type": "code",
   "execution_count": null,
   "metadata": {},
   "outputs": [],
   "source": []
  }
 ],
 "metadata": {
  "kernelspec": {
   "display_name": "Python 3",
   "language": "python",
   "name": "python3"
  },
  "language_info": {
   "codemirror_mode": {
    "name": "ipython",
    "version": 3
   },
   "file_extension": ".py",
   "mimetype": "text/x-python",
   "name": "python",
   "nbconvert_exporter": "python",
   "pygments_lexer": "ipython3",
   "version": "3.8.3"
  }
 },
 "nbformat": 4,
 "nbformat_minor": 4
}
